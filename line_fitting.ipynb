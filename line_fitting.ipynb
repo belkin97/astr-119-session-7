{
 "cells": [
  {
   "cell_type": "markdown",
   "id": "e9d5c048",
   "metadata": {},
   "source": [
    "## Example of line fitting"
   ]
  },
  {
   "cell_type": "markdown",
   "id": "2e1d92bf",
   "metadata": {},
   "source": [
    "First we import numpy and matplotlib as usual"
   ]
  },
  {
   "cell_type": "code",
   "execution_count": null,
   "id": "7b18e9bb",
   "metadata": {},
   "outputs": [],
   "source": [
    "%matplotlib inline\n",
    "import numpy as np\n",
    "import matplotlib.pyplot as plt"
   ]
  },
  {
   "cell_type": "markdown",
   "id": "18f3bf37",
   "metadata": {},
   "source": [
    "Now, let's generate some random data about a trend line (a line with gaussian random noise)"
   ]
  },
  {
   "cell_type": "code",
   "execution_count": null,
   "id": "7f451e6d",
   "metadata": {},
   "outputs": [],
   "source": [
    "#set a random number seed\n",
    "np.random.seed(119)\n",
    "\n",
    "#set the number of data points - a line with 50 data points\n",
    "npoints = 50\n",
    "\n",
    "#make an x array with those 50 points between 0 and 10\n",
    "x = np.linspace(0,10.,npoints)\n",
    "\n",
    "#set slope, intercept and scatter root-mean-square\n",
    "m = 2.0 # slope\n",
    "b = 1.0 # intercept\n",
    "sigma = 2.0 # root-mean-square scatter in the noise\n",
    "\n",
    "#generate y points for each value of x\n",
    "y = m*x + b + np.random.normal(scale=sigma,size=npoints)\n",
    "y_err = np.full(npoints,sigma) #another array with 15 of a single number (2.0) set to sigma\n"
   ]
  },
  {
   "cell_type": "markdown",
   "id": "09dd3f60",
   "metadata": {},
   "source": [
    "# Just plot the data!"
   ]
  },
  {
   "cell_type": "code",
   "execution_count": null,
   "id": "f78639d6",
   "metadata": {},
   "outputs": [],
   "source": [
    "f = plt.figure(figsize=(7,7)) #allows us to change the size of the figure\n",
    "plt.errorbar(x,y,sigma,fmt='o') #this will plot y vs. x and sigma noise (bars)\n",
    "plt.xlabel('x')\n",
    "plt.ylabel('y')"
   ]
  },
  {
   "cell_type": "markdown",
   "id": "327a2d47",
   "metadata": {},
   "source": [
    "# Method #1, polyfit()"
   ]
  },
  {
   "cell_type": "code",
   "execution_count": null,
   "id": "640bee04",
   "metadata": {},
   "outputs": [],
   "source": [
    "m_fit, b_fit = np.poly1d(np.polyfit(x,y,1,w=1./y_err)) #weighted linear fit,w means weight\n",
    "print(\"Best fit slope = \",m_fit)\n",
    "print(\"Best fit intercept = \",b_fit)\n",
    "\n",
    "y_fit = m_fit*x + b_fit"
   ]
  },
  {
   "cell_type": "markdown",
   "id": "d2c4f621",
   "metadata": {},
   "source": [
    "### Plot result"
   ]
  },
  {
   "cell_type": "code",
   "execution_count": null,
   "id": "a3a5a7f9",
   "metadata": {},
   "outputs": [],
   "source": [
    "f = plt.figure(figsize=(7,7))\n",
    "plt.errorbar(x,y,sigma,fmt='o', label='data')\n",
    "plt.plot(x,y_fit,label='fit')\n",
    "plt.xlabel('x')\n",
    "plt.ylabel('y')\n",
    "plt.legend(loc=2,frameon=False)"
   ]
  },
  {
   "cell_type": "markdown",
   "id": "40aa725a",
   "metadata": {},
   "source": [
    "### Method #2, scipy + optimize"
   ]
  },
  {
   "cell_type": "code",
   "execution_count": null,
   "id": "6a8ee91f",
   "metadata": {},
   "outputs": [],
   "source": [
    "#import optimize from scipy\n",
    "from scipy import optimize\n",
    "\n",
    "#define the function to fit\n",
    "def f_line(x, m, b):\n",
    "    return m*x + b\n",
    "\n",
    "#perform the fit\n",
    "params, params_cov = optimize.curve_fit(f_line,x,y,sigma=y_err)\n",
    "\n",
    "m_fit_s = params[0]\n",
    "b_fit_s = params[1]\n",
    "\n",
    "print(m_fit_s,b_fit_s)"
   ]
  },
  {
   "cell_type": "code",
   "execution_count": null,
   "id": "e78bef19",
   "metadata": {},
   "outputs": [],
   "source": [
    "f = plt.figure(figsize=(7,7))\n",
    "plt.errorbar(x,y,sigma,fmt='o',label='data')\n",
    "plt.plot(x,y_fit,label='fit')\n",
    "plt.plot(x,m_fit_s*x + b_fit_s,label='fit using scipy')\n",
    "\n",
    "plt.xlabel('x')\n",
    "plt.ylabel('y')\n",
    "plt.legend(loc=2,frameon=False)"
   ]
  },
  {
   "cell_type": "code",
   "execution_count": null,
   "id": "83db03c4",
   "metadata": {},
   "outputs": [],
   "source": [
    "print(m_fit, b_fit)"
   ]
  },
  {
   "cell_type": "code",
   "execution_count": null,
   "id": "8cb45b89",
   "metadata": {},
   "outputs": [],
   "source": [
    "f = plt.figure(figsize=(6,6))\n",
    "plt.errorbar(x,y,yerr=y_err,fmt='o', label='data')\n",
    "plt.plot(x,y_fit,label='fit')\n",
    "plt.xlabel('x')\n",
    "plt.ylabel('y')\n",
    "plt.legend(loc=2,frameon=False)"
   ]
  },
  {
   "cell_type": "code",
   "execution_count": null,
   "id": "c8c249b2",
   "metadata": {
    "scrolled": true
   },
   "outputs": [],
   "source": [
    "#redefine x and y\n",
    "npoints = 50\n",
    "x = np.linspace(0.,2*np.pi,npoints) #x is an array going from 0 to 2pi in 50 points\n",
    "\n",
    "#make y a complicated function\n",
    "a = 3.4   # amplitude\n",
    "b = 2.1   # frequency\n",
    "c = 0.27  # phase shift (radians)\n",
    "d = 1.3   # normalization change\n",
    "sig = 0.6 # noise\n",
    "\n",
    "y = a * np.sin( b*x + c) + d + np.random.normal(scale=sig,size=npoints)\n",
    "y_err = np.full(npoints,sig)\n",
    "\n",
    "f = plt.figure(figsize=(7,7))\n",
    "plt.errorbar(x,y,yerr=y_err,fmt='o')\n",
    "plt.xlabel('x')\n",
    "plt.ylabel('y')"
   ]
  },
  {
   "cell_type": "markdown",
   "id": "b76d5489",
   "metadata": {},
   "source": [
    "# Peform a fit using scipy.optimize.curve_fit()"
   ]
  },
  {
   "cell_type": "code",
   "execution_count": null,
   "id": "7f0d53c0",
   "metadata": {},
   "outputs": [],
   "source": [
    "#import optimize from scipy\n",
    "from scipy import optimize\n",
    "\n",
    "#define the function to fit\n",
    "def f_curve(x, a, b, c, d):\n",
    "    return a * np.sin( b*x + c) + d\n",
    "\n",
    "#perform the fit\n",
    "params, params_cov = optimize.curve_fit(f_curve,x,y,sigma=y_err,p0=[1,2.,0.1,-0.1])\n",
    "\n",
    "a_fit = params[0]\n",
    "b_fit = params[1]\n",
    "c_fit = params[2]\n",
    "d_fit = params[3]\n",
    "\n",
    "print(a_fit, b_fit, c_fit, d_fit)\n",
    "\n",
    "y_fit = a_fit * np.sin(b_fit * x + c_fit) + d_fit"
   ]
  },
  {
   "cell_type": "markdown",
   "id": "58d0e4e7",
   "metadata": {},
   "source": [
    "### Plot the fit"
   ]
  },
  {
   "cell_type": "code",
   "execution_count": null,
   "id": "9dc96075",
   "metadata": {},
   "outputs": [],
   "source": [
    "f = plt.figure(figsize=(7,7))\n",
    "plt.errorbar(x,y,yerr=y_err,fmt='o', label='data')\n",
    "plt.plot(x,y_fit,label='fit')\n",
    "\n",
    "plt.xlabel('x')\n",
    "plt.ylabel('y')\n",
    "plt.legend(loc=0,frameon=False)"
   ]
  },
  {
   "cell_type": "code",
   "execution_count": null,
   "id": "41266ec9",
   "metadata": {},
   "outputs": [],
   "source": []
  }
 ],
 "metadata": {
  "kernelspec": {
   "display_name": "Python 3 (ipykernel)",
   "language": "python",
   "name": "python3"
  },
  "language_info": {
   "codemirror_mode": {
    "name": "ipython",
    "version": 3
   },
   "file_extension": ".py",
   "mimetype": "text/x-python",
   "name": "python",
   "nbconvert_exporter": "python",
   "pygments_lexer": "ipython3",
   "version": "3.9.7"
  }
 },
 "nbformat": 4,
 "nbformat_minor": 5
}
